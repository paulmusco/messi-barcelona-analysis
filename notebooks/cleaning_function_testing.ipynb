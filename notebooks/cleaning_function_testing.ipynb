{
 "cells": [
  {
   "cell_type": "code",
   "execution_count": 1,
   "metadata": {},
   "outputs": [],
   "source": [
    "import pandas as pd\n",
    "import numpy as np\n",
    "import os\n",
    "pd.options.display.max_columns = None"
   ]
  },
  {
   "cell_type": "code",
   "execution_count": 2,
   "metadata": {},
   "outputs": [],
   "source": [
    "events = pd.read_csv('../data/cleaned-data/events.csv', low_memory=False)"
   ]
  },
  {
   "cell_type": "code",
   "execution_count": 3,
   "metadata": {},
   "outputs": [],
   "source": [
    "#season_list = events['season_name'].unique()\n",
    "#season_list"
   ]
  },
  {
   "cell_type": "code",
   "execution_count": 4,
   "metadata": {},
   "outputs": [],
   "source": [
    "#for season in season_list:\n",
    "#        df = events[events['season_name'] == season] #subset dataframe into separate seasons"
   ]
  },
  {
   "cell_type": "code",
   "execution_count": 24,
   "metadata": {},
   "outputs": [],
   "source": [
    "def clean_events_data(df):\n",
    "        \n",
    "    #Move 'match_id' & 'season_id columns to front of DF'\n",
    "    col_name2='match_id'\n",
    "    second_col = df.pop(col_name2)\n",
    "    df.insert(0, col_name2, second_col)\n",
    "    col_name='season_name'\n",
    "    first_col = df.pop(col_name)\n",
    "    df.insert(0, col_name, first_col)\n",
    "\n",
    "    #First column drops\n",
    "    df = df.drop(columns=['timestamp', 'possession', 'possession_team'])\n",
    "\n",
    "    #Subset columns that need splitting \n",
    "    type_df = df['type'].apply(pd.Series)\n",
    "    play_pattern_df = df['play_pattern'].apply(pd.Series)\n",
    "    team_df = df['team'].apply(pd.Series)\n",
    "    player_df = df['player'].apply(pd.Series)\n",
    "    position_df = df['position'].apply(pd.Series)\n",
    "\n",
    "    #Fill null values where required\n",
    "    player_df[0] = player_df[0].fillna(str({'id': 0, 'name': 0}))\n",
    "    position_df[0] = position_df[0].fillna(str({'id': 0, 'name': 0}))\n",
    "\n",
    "    #Split columns and drop redundant columns\n",
    "    type_df['type_id'] = type_df[0].apply(lambda x: eval(x)['id'])\n",
    "    type_df['type_name'] = type_df[0].apply(lambda x: eval(x)['name'])\n",
    "    type_df = type_df.drop([0], axis=1)\n",
    "    play_pattern_df['play_pattern_id'] = play_pattern_df[0].apply(lambda x: eval(x)['id'])\n",
    "    play_pattern_df['play_pattern_name'] = play_pattern_df[0].apply(lambda x: eval(x)['name'])\n",
    "    play_pattern_df = play_pattern_df.drop([0], axis=1)\n",
    "    team_df['team_id'] = team_df[0].apply(lambda x: eval(x)['id'])\n",
    "    team_df['team_name'] = team_df[0].apply(lambda x: eval(x)['name'])\n",
    "    team_df = team_df.drop([0], axis=1)\n",
    "    player_df['player_id'] = player_df[0].apply(lambda x: eval(x)['id'])\n",
    "    player_df['player_name'] = player_df[0].apply(lambda x: eval(x)['name'])\n",
    "    player_df = player_df.drop([0], axis=1)\n",
    "    position_df['position_id'] = position_df[0].apply(lambda x: eval(x)['id'])\n",
    "    position_df['position_name'] = position_df[0].apply(lambda x: eval(x)['name'])\n",
    "    position_df = position_df.drop([0], axis=1)\n",
    "\n",
    "    #Concat dataframes back togther and drop redundant columns\n",
    "    df = pd.concat([df, type_df, play_pattern_df, team_df, player_df, position_df], axis=1).drop(\n",
    "        columns = ['type', 'play_pattern', 'team', 'player', 'position'])\n",
    "\n",
    "    #Special cleaning required on 'tactics' subset\n",
    "    #tactics_df['tactics'] = tactics_df['tactics'].apply(pd.Series) DELETED\n",
    "    tactics_df = df[['match_id', 'type_id', 'type_name', 'team_name', 'tactics']]\n",
    "    tactics_df['tactics'] = tactics_df['tactics'].fillna(str({'formation': 0, 'lineup': 0}))\n",
    "\n",
    "    import ast\n",
    "    tactics_df['tactics'] = [ast.literal_eval(i) for i in tactics_df['tactics']]\n",
    "    tactics_df['formation'] = [tactics_df['tactics'].iloc[i]['formation'] for i in range(len(tactics_df['tactics']))]\n",
    "    tactics_df['lineup'] = [tactics_df['tactics'].iloc[i]['lineup'] for i in range(len(tactics_df['tactics']))]\n",
    "    tactics_player_split = tactics_df['lineup'].apply(pd.Series).add_prefix('player_')\n",
    "    tactics_df = pd.concat([tactics_df, tactics_player_split], axis=1).drop(columns='tactics')\n",
    "    #tactics_df = tactics.drop(columns='match_id') DELETED\n",
    "\n",
    "    #Concat dataframes back togther and drop redundant columns\n",
    "    df = pd.concat([df, tactics_df], axis=1).drop(columns = ['tactics'])\n",
    "\n",
    "    #Save cleaned dataframe to CSV file\n",
    "    df = df.to_csv('../data/cleaned-data/events_cleaned.csv', index=False)"
   ]
  },
  {
   "cell_type": "code",
   "execution_count": 22,
   "metadata": {},
   "outputs": [
    {
     "name": "stderr",
     "output_type": "stream",
     "text": [
      "C:\\Users\\paul_\\anaconda3\\envs\\matrix\\lib\\site-packages\\ipykernel_launcher.py:27: SettingWithCopyWarning: \n",
      "A value is trying to be set on a copy of a slice from a DataFrame.\n",
      "Try using .loc[row_indexer,col_indexer] = value instead\n",
      "\n",
      "See the caveats in the documentation: https://pandas.pydata.org/pandas-docs/stable/user_guide/indexing.html#returning-a-view-versus-a-copy\n",
      "C:\\Users\\paul_\\anaconda3\\envs\\matrix\\lib\\site-packages\\ipykernel_launcher.py:47: SettingWithCopyWarning: \n",
      "A value is trying to be set on a copy of a slice from a DataFrame.\n",
      "Try using .loc[row_indexer,col_indexer] = value instead\n",
      "\n",
      "See the caveats in the documentation: https://pandas.pydata.org/pandas-docs/stable/user_guide/indexing.html#returning-a-view-versus-a-copy\n",
      "C:\\Users\\paul_\\anaconda3\\envs\\matrix\\lib\\site-packages\\ipykernel_launcher.py:49: SettingWithCopyWarning: \n",
      "A value is trying to be set on a copy of a slice from a DataFrame.\n",
      "Try using .loc[row_indexer,col_indexer] = value instead\n",
      "\n",
      "See the caveats in the documentation: https://pandas.pydata.org/pandas-docs/stable/user_guide/indexing.html#returning-a-view-versus-a-copy\n",
      "C:\\Users\\paul_\\anaconda3\\envs\\matrix\\lib\\site-packages\\ipykernel_launcher.py:50: SettingWithCopyWarning: \n",
      "A value is trying to be set on a copy of a slice from a DataFrame.\n",
      "Try using .loc[row_indexer,col_indexer] = value instead\n",
      "\n",
      "See the caveats in the documentation: https://pandas.pydata.org/pandas-docs/stable/user_guide/indexing.html#returning-a-view-versus-a-copy\n",
      "C:\\Users\\paul_\\anaconda3\\envs\\matrix\\lib\\site-packages\\ipykernel_launcher.py:51: SettingWithCopyWarning: \n",
      "A value is trying to be set on a copy of a slice from a DataFrame.\n",
      "Try using .loc[row_indexer,col_indexer] = value instead\n",
      "\n",
      "See the caveats in the documentation: https://pandas.pydata.org/pandas-docs/stable/user_guide/indexing.html#returning-a-view-versus-a-copy\n"
     ]
    }
   ],
   "source": [
    "clean_events_data(events)"
   ]
  },
  {
   "cell_type": "code",
   "execution_count": null,
   "metadata": {},
   "outputs": [],
   "source": []
  }
 ],
 "metadata": {
  "kernelspec": {
   "display_name": "Python 3",
   "language": "python",
   "name": "python3"
  },
  "language_info": {
   "codemirror_mode": {
    "name": "ipython",
    "version": 3
   },
   "file_extension": ".py",
   "mimetype": "text/x-python",
   "name": "python",
   "nbconvert_exporter": "python",
   "pygments_lexer": "ipython3",
   "version": "3.7.1"
  }
 },
 "nbformat": 4,
 "nbformat_minor": 4
}
